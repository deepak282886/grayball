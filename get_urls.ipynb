{
 "cells": [
  {
   "cell_type": "code",
   "execution_count": null,
   "id": "2af71548-d948-4004-bce6-858b900770a4",
   "metadata": {},
   "outputs": [],
   "source": [
    "import os\n",
    "import requests\n",
    "from bs4 import BeautifulSoup\n",
    "import lxml\n",
    "import pandas as pd"
   ]
  },
  {
   "cell_type": "code",
   "execution_count": null,
   "id": "b0b459bc-aa9a-4688-b139-cd0a6bca5e3d",
   "metadata": {},
   "outputs": [],
   "source": [
    "url_list = []\n",
    "for i in range(0,2000):\n",
    "  print(i)\n",
    "  url = f'https://www.espncricinfo.com/cricket-features?page={i}'\n",
    "\n",
    "  response = requests.get(url)\n",
    "  soup = BeautifulSoup(response.text, 'lxml')\n",
    "\n",
    "  for link in soup.find_all('a'):\n",
    "      hre = link.get('href')\n",
    "      if \"story/\" in hre:\n",
    "        url_list.append(hre)\n",
    "\n",
    "print(len(url_list))\n",
    "df_features = pd.DataFrame({\"url\": url_list}).drop_duplicates()\n",
    "df_features.to_csv(\"feature_url.csv\", index=False)"
   ]
  },
  {
   "cell_type": "code",
   "execution_count": null,
   "id": "ecf0bab7-844c-4c00-8793-a5dda732deae",
   "metadata": {},
   "outputs": [],
   "source": [
    "url_list2 = []\n",
    "for i in range(0,4000):\n",
    "  print(i)\n",
    "  url = f'https://www.espncricinfo.com/cricket-news?page={i}'\n",
    "  response = requests.get(url)\n",
    "  soup = BeautifulSoup(response.text, 'lxml')\n",
    "  for link in soup.find_all('a'):\n",
    "      hre = link.get('href')\n",
    "      if \"story/\" in hre:\n",
    "        url_list2.append(hre)\n",
    "\n",
    "print(len(url_list2))\n",
    "df_features = pd.DataFrame({\"url\": url_list2}).drop_duplicates()\n",
    "df_features.to_csv(\"news_url_1.csv\", index=False)"
   ]
  },
  {
   "cell_type": "code",
   "execution_count": null,
   "id": "11419c69-adce-45c2-9375-83959f61aa02",
   "metadata": {},
   "outputs": [],
   "source": [
    "url_list2 = []\n",
    "for i in range(4000,8000):\n",
    "  print(i)\n",
    "  url = f'https://www.espncricinfo.com/cricket-news?page={i}'\n",
    "  response = requests.get(url)\n",
    "  soup = BeautifulSoup(response.text, 'lxml')\n",
    "  for link in soup.find_all('a'):\n",
    "      hre = link.get('href')\n",
    "      if \"story/\" in hre:\n",
    "        url_list2.append(hre)\n",
    "\n",
    "print(len(url_list2))\n",
    "df_features = pd.DataFrame({\"url\": url_list2}).drop_duplicates()\n",
    "df_features.to_csv(\"news_url_2.csv\", index=False)"
   ]
  }
 ],
 "metadata": {
  "kernelspec": {
   "display_name": "Python 3 (ipykernel)",
   "language": "python",
   "name": "python3"
  },
  "language_info": {
   "codemirror_mode": {
    "name": "ipython",
    "version": 3
   },
   "file_extension": ".py",
   "mimetype": "text/x-python",
   "name": "python",
   "nbconvert_exporter": "python",
   "pygments_lexer": "ipython3",
   "version": "3.11.5"
  }
 },
 "nbformat": 4,
 "nbformat_minor": 5
}
