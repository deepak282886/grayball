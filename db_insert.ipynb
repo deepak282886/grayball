{
  "cells": [
    {
      "cell_type": "code",
      "execution_count": null,
      "metadata": {
        "colab": {
          "base_uri": "https://localhost:8080/"
        },
        "id": "DMeKdiUectBE",
        "outputId": "d19cb114-78c8-4b0d-ca72-e7a8fd1a1d5f"
      },
      "outputs": [
        {
          "output_type": "stream",
          "name": "stdout",
          "text": [
            "Mounted at /content/drive\n"
          ]
        }
      ],
      "source": [
        "from google.colab import drive\n",
        "import pandas as pd\n",
        "import json\n",
        "drive.mount('/content/drive', force_remount=True)"
      ]
    },
    {
      "cell_type": "code",
      "execution_count": null,
      "metadata": {
        "id": "yl8egY-XywPf"
      },
      "outputs": [],
      "source": [
        "import os\n",
        "import sqlite3\n",
        "import uuid\n",
        "os.makedirs(\"/content/drive/MyDrive/grayball\", exist_ok=True)"
      ]
    },
    {
      "cell_type": "code",
      "execution_count": null,
      "metadata": {
        "id": "HPLD7Vx5cytN"
      },
      "outputs": [],
      "source": [
        "from zipfile import ZipFile\n",
        "\n",
        "with ZipFile(\"/content/drive/MyDrive/grayball/all_json.zip\", 'r') as zObject:\n",
        "    zObject.extractall(path=\"/content/drive/MyDrive/grayball/all_json/\")"
      ]
    },
    {
      "cell_type": "code",
      "execution_count": null,
      "metadata": {
        "id": "94jZdG27c4NR"
      },
      "outputs": [],
      "source": [
        "def insert_match_info(cric_data, match_id):\n",
        "\n",
        "    data = cric_data[\"info\"]\n",
        "    team1_name = 'team1'\n",
        "    team2_name = 'team2'\n",
        "\n",
        "    team1 = data['teams'][0]\n",
        "    team2 = data['teams'][1]\n",
        "\n",
        "    data['players'][team1_name] = data['players'].pop(team1)\n",
        "    data['players'][team2_name] = data['players'].pop(team2)\n",
        "\n",
        "    conn = sqlite3.connect('/content/drive/MyDrive/grayball/cricket.db')\n",
        "    cursor = conn.cursor()\n",
        "\n",
        "    # Extract data into separate variables\n",
        "    balls_per_over = data.get('balls_per_over', None)\n",
        "    city = data.get('city', None)\n",
        "    dates = data['dates'][0] if 'dates' in data and data['dates'] else None\n",
        "    event_name = data.get('event', {}).get('name', None)\n",
        "    event_match_number = data.get('event', {}).get('match_number', None)\n",
        "    gender = data.get('gender', None)\n",
        "    match_type = data.get('match_type', None)\n",
        "    match_type_number = data.get('match_type_number', None)\n",
        "    official_match_referees = ', '.join(data.get('officials', {}).get('match_referees', []))\n",
        "    official_reserve_umpires = ', '.join(data.get('officials', {}).get('reserve_umpires', []))\n",
        "    official_tv_umpires = ', '.join(data.get('officials', {}).get('tv_umpires', []))\n",
        "    official_umpires = ', '.join(data.get('officials', {}).get('umpires', []))\n",
        "\n",
        "    outcome = data.get('outcome', {})\n",
        "    outcome_winner = outcome.get('winner', None)\n",
        "    outcome_wickets = outcome.get('by', {}).get('wickets', None)\n",
        "    outcome_runs = outcome.get('by', {}).get('runs', None)\n",
        "\n",
        "    overs = data.get('overs', None)\n",
        "    player_of_match = ', '.join(data.get('player_of_match', []))\n",
        "    players_team1 = ', '.join(data['players'].get(team1_name, []))\n",
        "    players_team2 = ', '.join(data['players'].get(team2_name, []))\n",
        "    season = data.get('season', None)\n",
        "    team_type = data.get('team_type', None)\n",
        "    teams = ', '.join(data.get('teams', []))\n",
        "    toss_decision = data.get('toss', {}).get('decision', None)\n",
        "    toss_winner = data.get('toss', {}).get('winner', None)\n",
        "    venue = data.get('venue', None)\n",
        "\n",
        "    # Create the table if it doesn't exist\n",
        "    cursor.execute('''\n",
        "          CREATE TABLE IF NOT EXISTS match_info (\n",
        "              match_id TEXT PRIMARY KEY,\n",
        "              balls_per_over INTEGER,\n",
        "              city TEXT,\n",
        "              dates DATE,\n",
        "              event_name TEXT,\n",
        "              event_match_number INTEGER,\n",
        "              gender TEXT,\n",
        "              match_type TEXT,\n",
        "              match_type_number INTEGER,\n",
        "              official_match_referees TEXT,\n",
        "              official_reserve_umpires TEXT,\n",
        "              official_tv_umpires TEXT,\n",
        "              official_umpires TEXT,\n",
        "              outcome_winner TEXT,\n",
        "              outcome_wickets INTEGER,\n",
        "              outcome_runs INTEGER,\n",
        "              overs INTEGER,\n",
        "              player_of_match TEXT,\n",
        "              players_team1 TEXT,\n",
        "              players_team2 TEXT,\n",
        "              season TEXT,\n",
        "              team_type TEXT,\n",
        "              teams TEXT,\n",
        "              toss_decision TEXT,\n",
        "              toss_winner TEXT,\n",
        "              venue TEXT,\n",
        "              team1 TEXT,\n",
        "              team2 TEXT\n",
        "            )\n",
        "    ''')\n",
        "\n",
        "    # Insert data into the table using placeholders\n",
        "    cursor.execute('''\n",
        "        INSERT INTO match_info\n",
        "        (match_id, balls_per_over, city, dates, event_name, event_match_number, gender, match_type, match_type_number,\n",
        "        official_match_referees, official_reserve_umpires, official_tv_umpires, official_umpires,\n",
        "        outcome_winner, outcome_wickets, outcome_runs, overs, player_of_match, players_team1, players_team2,\n",
        "        season, team_type, teams, toss_decision, toss_winner, venue, team1, team2)\n",
        "        VALUES (?, ?, ?, ?, ?, ?, ?, ?, ?, ?, ?, ?, ?, ?, ?, ?, ?, ?, ?, ?, ?, ?, ?, ?, ?, ?, ?, ?)\n",
        "    ''',\n",
        "    (match_id, balls_per_over, city, dates, event_name, event_match_number, gender, match_type, match_type_number,\n",
        "    official_match_referees, official_reserve_umpires, official_tv_umpires, official_umpires,\n",
        "    outcome_winner, outcome_wickets, outcome_runs, overs, player_of_match,\n",
        "    players_team1, players_team2, season, team_type, teams,\n",
        "    toss_decision, toss_winner, venue, team1, team2))\n",
        "\n",
        "    conn.commit()\n",
        "    conn.close()"
      ]
    },
    {
      "cell_type": "code",
      "execution_count": null,
      "metadata": {
        "id": "v6EbTuBSc4wy"
      },
      "outputs": [],
      "source": [
        "def insert_ball_by_ball(cric_data, match_id):\n",
        "    ball_by_ball_data = cric_data.get(\"innings\", [])\n",
        "\n",
        "    # Connect to an SQLite database\n",
        "    conn = sqlite3.connect('/content/drive/MyDrive/grayball/cricket.db')\n",
        "    cursor = conn.cursor()\n",
        "\n",
        "    # Create a table for ball-by-ball data with 'team' and 'powerplay' columns\n",
        "    cursor.execute('''\n",
        "        CREATE TABLE IF NOT EXISTS ball_by_ball_data (\n",
        "            match_id TEXT,\n",
        "            team TEXT,\n",
        "            innings_number INTEGER,\n",
        "            over_number INTEGER,\n",
        "            powerplay_type TEXT,  -- Type of powerplay (e.g., 'mandatory', 'optional')\n",
        "            powerplay_number TEXT,  -- Powerplay number or 'no_powerplay'\n",
        "            ball_number INTEGER,\n",
        "            batter TEXT,\n",
        "            batter_number INTEGER,\n",
        "            non_striker_number INTEGER,\n",
        "            bowler TEXT,\n",
        "            bowler_number INTEGER,\n",
        "            non_striker TEXT,\n",
        "            runs_batter INTEGER,\n",
        "            extras_total INTEGER,\n",
        "            target_overs INTEGER,\n",
        "            target_runs INTEGER,\n",
        "            wickets_player_out TEXT,\n",
        "            wickets_kind TEXT,\n",
        "            fielder1_wicket TEXT,\n",
        "            fielder2_wicket TEXT,\n",
        "            fielder3_wicket TEXT,\n",
        "            legbyes_extras INTEGER,\n",
        "            wides_extras INTEGER,\n",
        "            byes_extras INTEGER,\n",
        "            noballs_extras INTEGER,\n",
        "            penalty_extras INTEGER\n",
        "        )\n",
        "    ''')\n",
        "    count_inn = 0\n",
        "    for innings_data in ball_by_ball_data:\n",
        "        batsman_order = {}\n",
        "        batting_order = 1\n",
        "        bowler_order = {}\n",
        "        bowling_order = 1\n",
        "        count_inn += 1\n",
        "\n",
        "        team = innings_data.get('team', None)\n",
        "        powerplays = innings_data.get('powerplays', [])\n",
        "\n",
        "        for over_data in innings_data.get('overs', []):\n",
        "            over_number = over_data.get('over', None)\n",
        "            pp = \"no_powerplay\"\n",
        "            pp_type = \"NA\"\n",
        "            target_info = innings_data.get('target', {})\n",
        "            target_overs = target_info.get('overs', None)\n",
        "            target_runs = target_info.get('runs', None)\n",
        "            pp_dict = sorted(powerplays, key=lambda pp: pp.get('from', 0))\n",
        "            for num, pp_data in enumerate(pp_dict, start=1):\n",
        "                if pp_data.get('from', 0) <= over_number < pp_data.get('to', 0):\n",
        "                    pp = str(num)\n",
        "                    pp_type = pp_data.get('type', \"NA\")\n",
        "\n",
        "            ball_number = 1\n",
        "            for delivery in over_data.get('deliveries', []):\n",
        "                batter_name = delivery.get('batter', None)\n",
        "                bowler_name = delivery.get('bowler', None)\n",
        "                non_striker_name = delivery.get('non_striker', None)\n",
        "\n",
        "                # Check if the batsman has been assigned a batting number\n",
        "                if batter_name not in batsman_order:\n",
        "                    batsman_order[batter_name] = batting_order\n",
        "                    batting_order += 1\n",
        "\n",
        "                # Check if the non-striker has been assigned a batting number\n",
        "                if non_striker_name not in batsman_order:\n",
        "                    batsman_order[non_striker_name] = batting_order\n",
        "                    batting_order += 1\n",
        "\n",
        "                # Check if the bowler has been assigned a bowling number\n",
        "                if bowler_name not in bowler_order:\n",
        "                    bowler_order[bowler_name] = bowling_order\n",
        "                    bowling_order += 1\n",
        "\n",
        "                # Check if the\n",
        "\n",
        "                runs_batter = delivery.get('runs', 0)\n",
        "                wickets = delivery.get('wickets', [])\n",
        "                extras = delivery.get('extras', {})\n",
        "                runs_extras = sum(extras.values())\n",
        "\n",
        "                wickets_player_out = None\n",
        "                wickets_kind = None\n",
        "                fielder1_wicket = None\n",
        "                fielder2_wicket = None\n",
        "                fielder3_wicket = None\n",
        "\n",
        "                legbyes_extras = extras.get('legbyes', 0)\n",
        "                wides_extras = extras.get('wides', 0)\n",
        "                byes_extras = extras.get('byes', 0)\n",
        "                noballs_extras = extras.get('noballs', 0)\n",
        "                penalty_extras = extras.get('penalty', 0)\n",
        "\n",
        "                if wickets:  # Check if there are wickets in this delivery\n",
        "                    for wicket in wickets:\n",
        "                        wickets_player_out = wicket.get('player_out', None)\n",
        "                        wickets_kind = wicket.get('kind', None)\n",
        "                        fielders_wicket = wicket.get('fielders', [])\n",
        "                        fielder1_wicket = None\n",
        "                        fielder2_wicket = None\n",
        "                        fielder3_wicket = None\n",
        "\n",
        "                        # Extract fielder information if available\n",
        "                        for i, fielder in enumerate(fielders_wicket):\n",
        "                            if i == 0:\n",
        "                                fielder1_wicket = fielder.get('name', None)\n",
        "                            elif i == 1:\n",
        "                                fielder2_wicket = fielder.get('name', None)\n",
        "                            elif i == 2:\n",
        "                                fielder3_wicket = fielder.get('name', None)\n",
        "\n",
        "                # Extract extra information if available\n",
        "                extras_keys = list(extras.keys())\n",
        "                if extras_keys:\n",
        "                    extras_type1 = extras_keys[0]\n",
        "                    runs_extras1 = extras.get(extras_type1, None)\n",
        "\n",
        "                    if len(extras_keys) > 1:\n",
        "                        extras_type2 = extras_keys[1]\n",
        "                        runs_extras2 = extras.get(extras_type2, None)\n",
        "\n",
        "                cursor.execute('''\n",
        "                    INSERT INTO ball_by_ball_data\n",
        "                    (match_id, team, innings_number, over_number, powerplay_type, powerplay_number, ball_number,\n",
        "                    batter, batter_number, non_striker_number, bowler, bowler_number, non_striker, runs_batter, extras_total, target_overs, target_runs, wickets_player_out,\n",
        "                    wickets_kind, fielder1_wicket, fielder2_wicket, fielder3_wicket, legbyes_extras, wides_extras, byes_extras, noballs_extras, penalty_extras)\n",
        "                    VALUES (?, ?, ?, ?, ?, ?, ?, ?, ?, ?, ?, ?, ?, ?, ?, ?, ?, ?, ?, ?, ?, ?, ?, ?, ?, ?, ?)\n",
        "                ''',\n",
        "                    (match_id, team, count_inn, over_number, pp_type, pp, ball_number, batter_name, batsman_order[batter_name],\n",
        "                    batsman_order[non_striker_name], bowler_name, bowler_order[bowler_name],\n",
        "                    non_striker_name, delivery['runs']['batter'], runs_extras,\n",
        "                    target_overs, target_runs,\n",
        "                    wickets_player_out, wickets_kind, fielder1_wicket, fielder2_wicket, fielder3_wicket,\n",
        "                    legbyes_extras, wides_extras, byes_extras, noballs_extras, penalty_extras))\n",
        "                ball_number += 1\n",
        "\n",
        "    # Commit the changes and close the database\n",
        "    conn.commit()"
      ]
    },
    {
      "cell_type": "code",
      "execution_count": null,
      "metadata": {
        "colab": {
          "base_uri": "https://localhost:8080/"
        },
        "id": "GOlRIT0oc2SZ",
        "outputId": "d942013d-ac85-43f7-e6d7-b8fd7406e8da"
      },
      "outputs": [
        {
          "output_type": "stream",
          "name": "stdout",
          "text": [
            "15790\n"
          ]
        }
      ],
      "source": [
        "import glob\n",
        "files = glob.glob(\"/content/drive/MyDrive/grayball/all_json/*.json\")\n",
        "print(len(files))"
      ]
    },
    {
      "cell_type": "code",
      "execution_count": null,
      "metadata": {
        "id": "XhoVacepc9ES"
      },
      "outputs": [],
      "source": [
        "map_df = []\n",
        "for file in files:\n",
        "  with open(file, 'r') as json_file:\n",
        "      cric_data = json.load(json_file)\n",
        "  match_id = str(uuid.uuid4())\n",
        "  insert_match_info(cric_data, match_id)\n",
        "  map_df.append({\"filename\": file, \"match_id\": match_id})"
      ]
    },
    {
      "cell_type": "code",
      "execution_count": null,
      "metadata": {
        "id": "4jP1PMbHdKzj"
      },
      "outputs": [],
      "source": [
        "map_df = pd.DataFrame(map_df)"
      ]
    },
    {
      "cell_type": "code",
      "execution_count": null,
      "metadata": {
        "id": "jGcQrFJydGbv"
      },
      "outputs": [],
      "source": [
        "map_df.to_csv(\"/content/drive/MyDrive/grayball/mapping_df.csv\", index=False)"
      ]
    },
    {
      "cell_type": "code",
      "execution_count": null,
      "metadata": {
        "id": "Gr7lRSBWdNh6"
      },
      "outputs": [],
      "source": [
        "for row in range(len(map_df)):\n",
        "  with open(map_df.iloc[row][\"filename\"], 'r') as json_file:\n",
        "      cric_data = json.load(json_file)\n",
        "  match_id = map_df.iloc[row][\"match_id\"]\n",
        "  insert_ball_by_ball(cric_data, match_id)"
      ]
    },
    {
      "cell_type": "code",
      "execution_count": null,
      "metadata": {
        "id": "KpWLKkGJfEBN"
      },
      "outputs": [],
      "source": [
        "# os.remove(\"/content/drive/MyDrive/grayball/cricket.db\")\n",
        "# os.path.exists(\"/content/drive/MyDrive/grayball/cricket.db\")"
      ]
    },
    {
      "cell_type": "code",
      "execution_count": null,
      "metadata": {
        "id": "IaJTr63uwkDD"
      },
      "outputs": [],
      "source": [
        "# conn = sqlite3.connect('/content/drive/MyDrive/grayball/cricket_try.db')\n",
        "# query = f\"\"\"\n",
        "#       SELECT *\n",
        "#       FROM ball_by_ball_data b\n",
        "#       LEFT JOIN match_info m ON b.match_id = m.match_id;\n",
        "#   \"\"\"\n",
        "# batsman_df = pd.read_sql_query(query, conn)"
      ]
    },
    {
      "cell_type": "code",
      "execution_count": null,
      "metadata": {
        "id": "d6fgA_4eGCdc"
      },
      "outputs": [],
      "source": [
        "# import pandas as pd\n",
        "# pd.set_option('display.max_rows', 500)\n",
        "# pd.set_option('display.max_columns', 500)\n",
        "# pd.set_option('display.width', 1000)\n",
        "# import re"
      ]
    },
    {
      "cell_type": "code",
      "execution_count": null,
      "metadata": {
        "id": "ESzFOkUVFavC"
      },
      "outputs": [],
      "source": [
        "# display(batsman_df.head(10))"
      ]
    },
    {
      "cell_type": "code",
      "execution_count": null,
      "metadata": {
        "id": "tegRz35AFcGb"
      },
      "outputs": [],
      "source": []
    }
  ],
  "metadata": {
    "colab": {
      "provenance": []
    },
    "kernelspec": {
      "display_name": "Python 3",
      "name": "python3"
    },
    "language_info": {
      "name": "python"
    }
  },
  "nbformat": 4,
  "nbformat_minor": 0
}